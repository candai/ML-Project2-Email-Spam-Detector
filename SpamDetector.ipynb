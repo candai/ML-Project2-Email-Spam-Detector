{
 "cells": [
  {
   "cell_type": "markdown",
   "id": "b65408e5-d5c1-44b5-9c1f-34315f88a5bb",
   "metadata": {
    "tags": []
   },
   "source": [
    "Can Dai - DSC 478: Programming Machine Learning Applications - Final Project"
   ]
  },
  {
   "cell_type": "markdown",
   "id": "064fdcb9-6456-4ff7-95b4-d6582716e526",
   "metadata": {},
   "source": [
    "### Part 1 - Data Analysis on Dataset\n"
   ]
  },
  {
   "cell_type": "code",
   "execution_count": 88,
   "id": "d6a2b798-bb07-4146-8699-1016208d6452",
   "metadata": {},
   "outputs": [],
   "source": [
    "# Load the modules\n",
    "import numpy as np\n",
    "import pandas as pd\n",
    "import matplotlib.pyplot as plt\n",
    "%matplotlib inline\n",
    "from sklearn.model_selection import train_test_split\n",
    "from sklearn.metrics import accuracy_score\n",
    "import seaborn as sns\n",
    "from sklearn.metrics import classification_report, confusion_matrix, accuracy_score"
   ]
  },
  {
   "cell_type": "code",
   "execution_count": 3,
   "id": "b8eadaed-6934-4f34-a5e3-75d1886532a8",
   "metadata": {},
   "outputs": [
    {
     "data": {
      "text/html": [
       "<div>\n",
       "<style scoped>\n",
       "    .dataframe tbody tr th:only-of-type {\n",
       "        vertical-align: middle;\n",
       "    }\n",
       "\n",
       "    .dataframe tbody tr th {\n",
       "        vertical-align: top;\n",
       "    }\n",
       "\n",
       "    .dataframe thead th {\n",
       "        text-align: right;\n",
       "    }\n",
       "</style>\n",
       "<table border=\"1\" class=\"dataframe\">\n",
       "  <thead>\n",
       "    <tr style=\"text-align: right;\">\n",
       "      <th></th>\n",
       "      <th>label</th>\n",
       "      <th>subject</th>\n",
       "      <th>email_to</th>\n",
       "      <th>email_from</th>\n",
       "      <th>message</th>\n",
       "    </tr>\n",
       "  </thead>\n",
       "  <tbody>\n",
       "    <tr>\n",
       "      <th>0</th>\n",
       "      <td>1</td>\n",
       "      <td>Generic Cialis, branded quality@</td>\n",
       "      <td>the00@speedy.uwaterloo.ca</td>\n",
       "      <td>\"Tomas Jacobs\" &lt;RickyAmes@aol.com&gt;</td>\n",
       "      <td>Content-Type: text/html;\\nContent-Transfer-Enc...</td>\n",
       "    </tr>\n",
       "    <tr>\n",
       "      <th>1</th>\n",
       "      <td>0</td>\n",
       "      <td>Typo in /debian/README</td>\n",
       "      <td>debian-mirrors@lists.debian.org</td>\n",
       "      <td>Yan Morin &lt;yan.morin@savoirfairelinux.com&gt;</td>\n",
       "      <td>Hi, i've just updated from the gulus and I che...</td>\n",
       "    </tr>\n",
       "    <tr>\n",
       "      <th>2</th>\n",
       "      <td>1</td>\n",
       "      <td>authentic viagra</td>\n",
       "      <td>&lt;the00@plg.uwaterloo.ca&gt;</td>\n",
       "      <td>\"Sheila Crenshaw\" &lt;7stocknews@tractionmarketin...</td>\n",
       "      <td>Content-Type: text/plain;\\n\\tcharset=\"iso-8859...</td>\n",
       "    </tr>\n",
       "    <tr>\n",
       "      <th>3</th>\n",
       "      <td>1</td>\n",
       "      <td>Nice talking with ya</td>\n",
       "      <td>opt4@speedy.uwaterloo.ca</td>\n",
       "      <td>\"Stormy Dempsey\" &lt;vqucsmdfgvsg@ruraltek.com&gt;</td>\n",
       "      <td>Hey Billy, \\n\\nit was really fun going out the...</td>\n",
       "    </tr>\n",
       "    <tr>\n",
       "      <th>4</th>\n",
       "      <td>1</td>\n",
       "      <td>or trembling; stomach cramps; trouble in sleep...</td>\n",
       "      <td>ktwarwic@speedy.uwaterloo.ca</td>\n",
       "      <td>\"Christi T. Jernigan\" &lt;dcube@totalink.net&gt;</td>\n",
       "      <td>Content-Type: multipart/alternative;\\n        ...</td>\n",
       "    </tr>\n",
       "    <tr>\n",
       "      <th>...</th>\n",
       "      <td>...</td>\n",
       "      <td>...</td>\n",
       "      <td>...</td>\n",
       "      <td>...</td>\n",
       "      <td>...</td>\n",
       "    </tr>\n",
       "    <tr>\n",
       "      <th>75414</th>\n",
       "      <td>1</td>\n",
       "      <td>the reply for your request for a job place [le...</td>\n",
       "      <td>\"Gnitpick\" &lt;gnitpick@flax9.uwaterloo.ca&gt;</td>\n",
       "      <td>\"Sydney Car Centre\" &lt;Merrill8783@168city.com&gt;</td>\n",
       "      <td>Content-Type: text/html;\\nContent-Transfer-Enc...</td>\n",
       "    </tr>\n",
       "    <tr>\n",
       "      <th>75415</th>\n",
       "      <td>1</td>\n",
       "      <td>the reply for your request for a job place [le...</td>\n",
       "      <td>\"Gnitpick\" &lt;gnitpick@flax9.uwaterloo.ca&gt;</td>\n",
       "      <td>\"Sydney Car Centre\" &lt;Merrill8783@168city.com&gt;</td>\n",
       "      <td>Content-Type: text/html;\\nContent-Transfer-Enc...</td>\n",
       "    </tr>\n",
       "    <tr>\n",
       "      <th>75416</th>\n",
       "      <td>0</td>\n",
       "      <td>Re: [R] Me again, about the horrible documenta...</td>\n",
       "      <td>Duncan Murdoch &lt;murdoch@stats.uwo.ca&gt;</td>\n",
       "      <td>Philippe Grosjean &lt;phgrosjean@sciviews.org&gt;</td>\n",
       "      <td>For those who are interested, I just cook a li...</td>\n",
       "    </tr>\n",
       "    <tr>\n",
       "      <th>75417</th>\n",
       "      <td>0</td>\n",
       "      <td>Re: [R] RODBC problem</td>\n",
       "      <td>&lt;r-help@stat.math.ethz.ch&gt;</td>\n",
       "      <td>=?iso-8859-1?Q?Bernhard_Wellh=F6fer?=\\n\\t&lt;Bern...</td>\n",
       "      <td>Hello,\\n\\nas I wrote I call\\n\\n  sqlFetch(chan...</td>\n",
       "    </tr>\n",
       "    <tr>\n",
       "      <th>75418</th>\n",
       "      <td>1</td>\n",
       "      <td>I wanted the desk at his own laws: of the.  Bu...</td>\n",
       "      <td>the00@plg.uwaterloo.ca</td>\n",
       "      <td>\"Danny\" &lt;pwcusnt@noblecoffee.com&gt;</td>\n",
       "      <td>Content-Type: multipart/alternative;\\n\\tbounda...</td>\n",
       "    </tr>\n",
       "  </tbody>\n",
       "</table>\n",
       "<p>75419 rows × 5 columns</p>\n",
       "</div>"
      ],
      "text/plain": [
       "       label                                            subject  \\\n",
       "0          1                  Generic Cialis, branded quality@    \n",
       "1          0                             Typo in /debian/README   \n",
       "2          1                                   authentic viagra   \n",
       "3          1                               Nice talking with ya   \n",
       "4          1  or trembling; stomach cramps; trouble in sleep...   \n",
       "...      ...                                                ...   \n",
       "75414      1  the reply for your request for a job place [le...   \n",
       "75415      1  the reply for your request for a job place [le...   \n",
       "75416      0  Re: [R] Me again, about the horrible documenta...   \n",
       "75417      0                              Re: [R] RODBC problem   \n",
       "75418      1  I wanted the desk at his own laws: of the.  Bu...   \n",
       "\n",
       "                                       email_to  \\\n",
       "0                     the00@speedy.uwaterloo.ca   \n",
       "1               debian-mirrors@lists.debian.org   \n",
       "2                      <the00@plg.uwaterloo.ca>   \n",
       "3                      opt4@speedy.uwaterloo.ca   \n",
       "4                  ktwarwic@speedy.uwaterloo.ca   \n",
       "...                                         ...   \n",
       "75414  \"Gnitpick\" <gnitpick@flax9.uwaterloo.ca>   \n",
       "75415  \"Gnitpick\" <gnitpick@flax9.uwaterloo.ca>   \n",
       "75416     Duncan Murdoch <murdoch@stats.uwo.ca>   \n",
       "75417                <r-help@stat.math.ethz.ch>   \n",
       "75418                    the00@plg.uwaterloo.ca   \n",
       "\n",
       "                                              email_from  \\\n",
       "0                     \"Tomas Jacobs\" <RickyAmes@aol.com>   \n",
       "1             Yan Morin <yan.morin@savoirfairelinux.com>   \n",
       "2      \"Sheila Crenshaw\" <7stocknews@tractionmarketin...   \n",
       "3           \"Stormy Dempsey\" <vqucsmdfgvsg@ruraltek.com>   \n",
       "4             \"Christi T. Jernigan\" <dcube@totalink.net>   \n",
       "...                                                  ...   \n",
       "75414      \"Sydney Car Centre\" <Merrill8783@168city.com>   \n",
       "75415      \"Sydney Car Centre\" <Merrill8783@168city.com>   \n",
       "75416        Philippe Grosjean <phgrosjean@sciviews.org>   \n",
       "75417  =?iso-8859-1?Q?Bernhard_Wellh=F6fer?=\\n\\t<Bern...   \n",
       "75418                  \"Danny\" <pwcusnt@noblecoffee.com>   \n",
       "\n",
       "                                                 message  \n",
       "0      Content-Type: text/html;\\nContent-Transfer-Enc...  \n",
       "1      Hi, i've just updated from the gulus and I che...  \n",
       "2      Content-Type: text/plain;\\n\\tcharset=\"iso-8859...  \n",
       "3      Hey Billy, \\n\\nit was really fun going out the...  \n",
       "4      Content-Type: multipart/alternative;\\n        ...  \n",
       "...                                                  ...  \n",
       "75414  Content-Type: text/html;\\nContent-Transfer-Enc...  \n",
       "75415  Content-Type: text/html;\\nContent-Transfer-Enc...  \n",
       "75416  For those who are interested, I just cook a li...  \n",
       "75417  Hello,\\n\\nas I wrote I call\\n\\n  sqlFetch(chan...  \n",
       "75418  Content-Type: multipart/alternative;\\n\\tbounda...  \n",
       "\n",
       "[75419 rows x 5 columns]"
      ]
     },
     "execution_count": 3,
     "metadata": {},
     "output_type": "execute_result"
    }
   ],
   "source": [
    "# Load the data\n",
    "dataset = pd.read_table('Public_Corpus_Dataset.csv', delimiter=',',skiprows=0)\n",
    "dataset"
   ]
  },
  {
   "cell_type": "code",
   "execution_count": 4,
   "id": "d1317336-5564-42dc-93a0-883e4b1704a2",
   "metadata": {},
   "outputs": [
    {
     "data": {
      "text/html": [
       "<div>\n",
       "<style scoped>\n",
       "    .dataframe tbody tr th:only-of-type {\n",
       "        vertical-align: middle;\n",
       "    }\n",
       "\n",
       "    .dataframe tbody tr th {\n",
       "        vertical-align: top;\n",
       "    }\n",
       "\n",
       "    .dataframe thead th {\n",
       "        text-align: right;\n",
       "    }\n",
       "</style>\n",
       "<table border=\"1\" class=\"dataframe\">\n",
       "  <thead>\n",
       "    <tr style=\"text-align: right;\">\n",
       "      <th></th>\n",
       "      <th>label</th>\n",
       "      <th>subject</th>\n",
       "      <th>email_to</th>\n",
       "      <th>email_from</th>\n",
       "      <th>message</th>\n",
       "    </tr>\n",
       "  </thead>\n",
       "  <tbody>\n",
       "    <tr>\n",
       "      <th>count</th>\n",
       "      <td>75419.000000</td>\n",
       "      <td>74626</td>\n",
       "      <td>74843</td>\n",
       "      <td>75419</td>\n",
       "      <td>73932</td>\n",
       "    </tr>\n",
       "    <tr>\n",
       "      <th>unique</th>\n",
       "      <td>NaN</td>\n",
       "      <td>33672</td>\n",
       "      <td>9340</td>\n",
       "      <td>47219</td>\n",
       "      <td>59047</td>\n",
       "    </tr>\n",
       "    <tr>\n",
       "      <th>top</th>\n",
       "      <td>NaN</td>\n",
       "      <td>Avis Important et Personnel</td>\n",
       "      <td>samba-cvs@samba.org</td>\n",
       "      <td>Groupe Desjardins / AccesD &lt;services.de.cartes...</td>\n",
       "      <td>Cher(e) membre \\n                Desjardins/ A...</td>\n",
       "    </tr>\n",
       "    <tr>\n",
       "      <th>freq</th>\n",
       "      <td>NaN</td>\n",
       "      <td>2974</td>\n",
       "      <td>2396</td>\n",
       "      <td>2826</td>\n",
       "      <td>2606</td>\n",
       "    </tr>\n",
       "    <tr>\n",
       "      <th>mean</th>\n",
       "      <td>0.665602</td>\n",
       "      <td>NaN</td>\n",
       "      <td>NaN</td>\n",
       "      <td>NaN</td>\n",
       "      <td>NaN</td>\n",
       "    </tr>\n",
       "    <tr>\n",
       "      <th>std</th>\n",
       "      <td>0.471783</td>\n",
       "      <td>NaN</td>\n",
       "      <td>NaN</td>\n",
       "      <td>NaN</td>\n",
       "      <td>NaN</td>\n",
       "    </tr>\n",
       "    <tr>\n",
       "      <th>min</th>\n",
       "      <td>0.000000</td>\n",
       "      <td>NaN</td>\n",
       "      <td>NaN</td>\n",
       "      <td>NaN</td>\n",
       "      <td>NaN</td>\n",
       "    </tr>\n",
       "    <tr>\n",
       "      <th>25%</th>\n",
       "      <td>0.000000</td>\n",
       "      <td>NaN</td>\n",
       "      <td>NaN</td>\n",
       "      <td>NaN</td>\n",
       "      <td>NaN</td>\n",
       "    </tr>\n",
       "    <tr>\n",
       "      <th>50%</th>\n",
       "      <td>1.000000</td>\n",
       "      <td>NaN</td>\n",
       "      <td>NaN</td>\n",
       "      <td>NaN</td>\n",
       "      <td>NaN</td>\n",
       "    </tr>\n",
       "    <tr>\n",
       "      <th>75%</th>\n",
       "      <td>1.000000</td>\n",
       "      <td>NaN</td>\n",
       "      <td>NaN</td>\n",
       "      <td>NaN</td>\n",
       "      <td>NaN</td>\n",
       "    </tr>\n",
       "    <tr>\n",
       "      <th>max</th>\n",
       "      <td>1.000000</td>\n",
       "      <td>NaN</td>\n",
       "      <td>NaN</td>\n",
       "      <td>NaN</td>\n",
       "      <td>NaN</td>\n",
       "    </tr>\n",
       "  </tbody>\n",
       "</table>\n",
       "</div>"
      ],
      "text/plain": [
       "               label                      subject             email_to  \\\n",
       "count   75419.000000                        74626                74843   \n",
       "unique           NaN                        33672                 9340   \n",
       "top              NaN  Avis Important et Personnel  samba-cvs@samba.org   \n",
       "freq             NaN                         2974                 2396   \n",
       "mean        0.665602                          NaN                  NaN   \n",
       "std         0.471783                          NaN                  NaN   \n",
       "min         0.000000                          NaN                  NaN   \n",
       "25%         0.000000                          NaN                  NaN   \n",
       "50%         1.000000                          NaN                  NaN   \n",
       "75%         1.000000                          NaN                  NaN   \n",
       "max         1.000000                          NaN                  NaN   \n",
       "\n",
       "                                               email_from  \\\n",
       "count                                               75419   \n",
       "unique                                              47219   \n",
       "top     Groupe Desjardins / AccesD <services.de.cartes...   \n",
       "freq                                                 2826   \n",
       "mean                                                  NaN   \n",
       "std                                                   NaN   \n",
       "min                                                   NaN   \n",
       "25%                                                   NaN   \n",
       "50%                                                   NaN   \n",
       "75%                                                   NaN   \n",
       "max                                                   NaN   \n",
       "\n",
       "                                                  message  \n",
       "count                                               73932  \n",
       "unique                                              59047  \n",
       "top     Cher(e) membre \\n                Desjardins/ A...  \n",
       "freq                                                 2606  \n",
       "mean                                                  NaN  \n",
       "std                                                   NaN  \n",
       "min                                                   NaN  \n",
       "25%                                                   NaN  \n",
       "50%                                                   NaN  \n",
       "75%                                                   NaN  \n",
       "max                                                   NaN  "
      ]
     },
     "execution_count": 4,
     "metadata": {},
     "output_type": "execute_result"
    }
   ],
   "source": [
    "dataset.describe(include='all')"
   ]
  },
  {
   "cell_type": "code",
   "execution_count": 5,
   "id": "686a947f-e76e-4d9b-9ec7-26280a05db91",
   "metadata": {},
   "outputs": [
    {
     "data": {
      "text/html": [
       "<div>\n",
       "<style scoped>\n",
       "    .dataframe tbody tr th:only-of-type {\n",
       "        vertical-align: middle;\n",
       "    }\n",
       "\n",
       "    .dataframe tbody tr th {\n",
       "        vertical-align: top;\n",
       "    }\n",
       "\n",
       "    .dataframe thead th {\n",
       "        text-align: right;\n",
       "    }\n",
       "</style>\n",
       "<table border=\"1\" class=\"dataframe\">\n",
       "  <thead>\n",
       "    <tr style=\"text-align: right;\">\n",
       "      <th></th>\n",
       "      <th>label</th>\n",
       "      <th>message</th>\n",
       "    </tr>\n",
       "  </thead>\n",
       "  <tbody>\n",
       "    <tr>\n",
       "      <th>0</th>\n",
       "      <td>1</td>\n",
       "      <td>Content-Type: text/html;\\nContent-Transfer-Enc...</td>\n",
       "    </tr>\n",
       "    <tr>\n",
       "      <th>1</th>\n",
       "      <td>0</td>\n",
       "      <td>Hi, i've just updated from the gulus and I che...</td>\n",
       "    </tr>\n",
       "    <tr>\n",
       "      <th>2</th>\n",
       "      <td>1</td>\n",
       "      <td>Content-Type: text/plain;\\n\\tcharset=\"iso-8859...</td>\n",
       "    </tr>\n",
       "    <tr>\n",
       "      <th>3</th>\n",
       "      <td>1</td>\n",
       "      <td>Hey Billy, \\n\\nit was really fun going out the...</td>\n",
       "    </tr>\n",
       "    <tr>\n",
       "      <th>4</th>\n",
       "      <td>1</td>\n",
       "      <td>Content-Type: multipart/alternative;\\n        ...</td>\n",
       "    </tr>\n",
       "    <tr>\n",
       "      <th>...</th>\n",
       "      <td>...</td>\n",
       "      <td>...</td>\n",
       "    </tr>\n",
       "    <tr>\n",
       "      <th>75414</th>\n",
       "      <td>1</td>\n",
       "      <td>Content-Type: text/html;\\nContent-Transfer-Enc...</td>\n",
       "    </tr>\n",
       "    <tr>\n",
       "      <th>75415</th>\n",
       "      <td>1</td>\n",
       "      <td>Content-Type: text/html;\\nContent-Transfer-Enc...</td>\n",
       "    </tr>\n",
       "    <tr>\n",
       "      <th>75416</th>\n",
       "      <td>0</td>\n",
       "      <td>For those who are interested, I just cook a li...</td>\n",
       "    </tr>\n",
       "    <tr>\n",
       "      <th>75417</th>\n",
       "      <td>0</td>\n",
       "      <td>Hello,\\n\\nas I wrote I call\\n\\n  sqlFetch(chan...</td>\n",
       "    </tr>\n",
       "    <tr>\n",
       "      <th>75418</th>\n",
       "      <td>1</td>\n",
       "      <td>Content-Type: multipart/alternative;\\n\\tbounda...</td>\n",
       "    </tr>\n",
       "  </tbody>\n",
       "</table>\n",
       "<p>75419 rows × 2 columns</p>\n",
       "</div>"
      ],
      "text/plain": [
       "       label                                            message\n",
       "0          1  Content-Type: text/html;\\nContent-Transfer-Enc...\n",
       "1          0  Hi, i've just updated from the gulus and I che...\n",
       "2          1  Content-Type: text/plain;\\n\\tcharset=\"iso-8859...\n",
       "3          1  Hey Billy, \\n\\nit was really fun going out the...\n",
       "4          1  Content-Type: multipart/alternative;\\n        ...\n",
       "...      ...                                                ...\n",
       "75414      1  Content-Type: text/html;\\nContent-Transfer-Enc...\n",
       "75415      1  Content-Type: text/html;\\nContent-Transfer-Enc...\n",
       "75416      0  For those who are interested, I just cook a li...\n",
       "75417      0  Hello,\\n\\nas I wrote I call\\n\\n  sqlFetch(chan...\n",
       "75418      1  Content-Type: multipart/alternative;\\n\\tbounda...\n",
       "\n",
       "[75419 rows x 2 columns]"
      ]
     },
     "execution_count": 5,
     "metadata": {},
     "output_type": "execute_result"
    }
   ],
   "source": [
    "# spam dataset\n",
    "spam_dataset = dataset.loc[:,['label','message']]\n",
    "spam_dataset"
   ]
  },
  {
   "cell_type": "code",
   "execution_count": 6,
   "id": "7e2efd66-2cf7-4231-a74b-6787be6029b5",
   "metadata": {},
   "outputs": [
    {
     "data": {
      "text/plain": [
       "1487"
      ]
     },
     "execution_count": 6,
     "metadata": {},
     "output_type": "execute_result"
    }
   ],
   "source": [
    "# checking null values in text\n",
    "spam_dataset['message'].isna().sum()"
   ]
  },
  {
   "cell_type": "markdown",
   "id": "a03bc240-361f-4277-8696-5bce269fae88",
   "metadata": {},
   "source": [
    "There are 1487 rows of messages that have a NA value. I will extract these rows from the dataset since the number is low and in addition, these rows won't add any value to SPAM detection purpose."
   ]
  },
  {
   "cell_type": "code",
   "execution_count": 7,
   "id": "2ccb195e-bfde-4df1-bc89-f3def4bec844",
   "metadata": {},
   "outputs": [
    {
     "data": {
      "text/plain": [
       "0"
      ]
     },
     "execution_count": 7,
     "metadata": {},
     "output_type": "execute_result"
    }
   ],
   "source": [
    "# Dropping Rows with NA message rows\n",
    "spam_dataset.dropna(subset=['message'],inplace=True)\n",
    "spam_dataset['message'].isna().sum()"
   ]
  },
  {
   "cell_type": "code",
   "execution_count": 8,
   "id": "1d2e9b9d-e538-4561-9636-ff42a364d35d",
   "metadata": {},
   "outputs": [
    {
     "data": {
      "text/html": [
       "<div>\n",
       "<style scoped>\n",
       "    .dataframe tbody tr th:only-of-type {\n",
       "        vertical-align: middle;\n",
       "    }\n",
       "\n",
       "    .dataframe tbody tr th {\n",
       "        vertical-align: top;\n",
       "    }\n",
       "\n",
       "    .dataframe thead th {\n",
       "        text-align: right;\n",
       "    }\n",
       "</style>\n",
       "<table border=\"1\" class=\"dataframe\">\n",
       "  <thead>\n",
       "    <tr style=\"text-align: right;\">\n",
       "      <th></th>\n",
       "      <th>Text</th>\n",
       "    </tr>\n",
       "  </thead>\n",
       "  <tbody>\n",
       "    <tr>\n",
       "      <th>0</th>\n",
       "      <td>Content-Type: text/html;\\nContent-Transfer-Enc...</td>\n",
       "    </tr>\n",
       "    <tr>\n",
       "      <th>1</th>\n",
       "      <td>Hi, i've just updated from the gulus and I che...</td>\n",
       "    </tr>\n",
       "    <tr>\n",
       "      <th>2</th>\n",
       "      <td>Content-Type: text/plain;\\n\\tcharset=\"iso-8859...</td>\n",
       "    </tr>\n",
       "    <tr>\n",
       "      <th>3</th>\n",
       "      <td>Hey Billy, \\n\\nit was really fun going out the...</td>\n",
       "    </tr>\n",
       "    <tr>\n",
       "      <th>4</th>\n",
       "      <td>Content-Type: multipart/alternative;\\n        ...</td>\n",
       "    </tr>\n",
       "    <tr>\n",
       "      <th>...</th>\n",
       "      <td>...</td>\n",
       "    </tr>\n",
       "    <tr>\n",
       "      <th>75414</th>\n",
       "      <td>Content-Type: text/html;\\nContent-Transfer-Enc...</td>\n",
       "    </tr>\n",
       "    <tr>\n",
       "      <th>75415</th>\n",
       "      <td>Content-Type: text/html;\\nContent-Transfer-Enc...</td>\n",
       "    </tr>\n",
       "    <tr>\n",
       "      <th>75416</th>\n",
       "      <td>For those who are interested, I just cook a li...</td>\n",
       "    </tr>\n",
       "    <tr>\n",
       "      <th>75417</th>\n",
       "      <td>Hello,\\n\\nas I wrote I call\\n\\n  sqlFetch(chan...</td>\n",
       "    </tr>\n",
       "    <tr>\n",
       "      <th>75418</th>\n",
       "      <td>Content-Type: multipart/alternative;\\n\\tbounda...</td>\n",
       "    </tr>\n",
       "  </tbody>\n",
       "</table>\n",
       "<p>73932 rows × 1 columns</p>\n",
       "</div>"
      ],
      "text/plain": [
       "                                                    Text\n",
       "0      Content-Type: text/html;\\nContent-Transfer-Enc...\n",
       "1      Hi, i've just updated from the gulus and I che...\n",
       "2      Content-Type: text/plain;\\n\\tcharset=\"iso-8859...\n",
       "3      Hey Billy, \\n\\nit was really fun going out the...\n",
       "4      Content-Type: multipart/alternative;\\n        ...\n",
       "...                                                  ...\n",
       "75414  Content-Type: text/html;\\nContent-Transfer-Enc...\n",
       "75415  Content-Type: text/html;\\nContent-Transfer-Enc...\n",
       "75416  For those who are interested, I just cook a li...\n",
       "75417  Hello,\\n\\nas I wrote I call\\n\\n  sqlFetch(chan...\n",
       "75418  Content-Type: multipart/alternative;\\n\\tbounda...\n",
       "\n",
       "[73932 rows x 1 columns]"
      ]
     },
     "execution_count": 8,
     "metadata": {},
     "output_type": "execute_result"
    }
   ],
   "source": [
    "\n",
    "# trimming the dataset\n",
    "text_data = spam_dataset.loc[:,['message']]\n",
    "text_data.columns = ['Text']\n",
    "text_data"
   ]
  },
  {
   "cell_type": "code",
   "execution_count": 9,
   "id": "af48b3cc-7c37-4b43-a1a8-5abccebb7a30",
   "metadata": {},
   "outputs": [
    {
     "data": {
      "text/html": [
       "<div>\n",
       "<style scoped>\n",
       "    .dataframe tbody tr th:only-of-type {\n",
       "        vertical-align: middle;\n",
       "    }\n",
       "\n",
       "    .dataframe tbody tr th {\n",
       "        vertical-align: top;\n",
       "    }\n",
       "\n",
       "    .dataframe thead th {\n",
       "        text-align: right;\n",
       "    }\n",
       "</style>\n",
       "<table border=\"1\" class=\"dataframe\">\n",
       "  <thead>\n",
       "    <tr style=\"text-align: right;\">\n",
       "      <th></th>\n",
       "      <th>Labels</th>\n",
       "    </tr>\n",
       "  </thead>\n",
       "  <tbody>\n",
       "    <tr>\n",
       "      <th>0</th>\n",
       "      <td>1</td>\n",
       "    </tr>\n",
       "    <tr>\n",
       "      <th>1</th>\n",
       "      <td>0</td>\n",
       "    </tr>\n",
       "    <tr>\n",
       "      <th>2</th>\n",
       "      <td>1</td>\n",
       "    </tr>\n",
       "    <tr>\n",
       "      <th>3</th>\n",
       "      <td>1</td>\n",
       "    </tr>\n",
       "    <tr>\n",
       "      <th>4</th>\n",
       "      <td>1</td>\n",
       "    </tr>\n",
       "    <tr>\n",
       "      <th>...</th>\n",
       "      <td>...</td>\n",
       "    </tr>\n",
       "    <tr>\n",
       "      <th>75414</th>\n",
       "      <td>1</td>\n",
       "    </tr>\n",
       "    <tr>\n",
       "      <th>75415</th>\n",
       "      <td>1</td>\n",
       "    </tr>\n",
       "    <tr>\n",
       "      <th>75416</th>\n",
       "      <td>0</td>\n",
       "    </tr>\n",
       "    <tr>\n",
       "      <th>75417</th>\n",
       "      <td>0</td>\n",
       "    </tr>\n",
       "    <tr>\n",
       "      <th>75418</th>\n",
       "      <td>1</td>\n",
       "    </tr>\n",
       "  </tbody>\n",
       "</table>\n",
       "<p>73932 rows × 1 columns</p>\n",
       "</div>"
      ],
      "text/plain": [
       "       Labels\n",
       "0           1\n",
       "1           0\n",
       "2           1\n",
       "3           1\n",
       "4           1\n",
       "...       ...\n",
       "75414       1\n",
       "75415       1\n",
       "75416       0\n",
       "75417       0\n",
       "75418       1\n",
       "\n",
       "[73932 rows x 1 columns]"
      ]
     },
     "execution_count": 9,
     "metadata": {},
     "output_type": "execute_result"
    }
   ],
   "source": [
    "# Label 1 indicates SPAM, Label 0 indicates HAM\n",
    "labels_data = spam_dataset.loc[:,['label']]\n",
    "labels_data.columns = ['Labels']\n",
    "labels_data"
   ]
  },
  {
   "cell_type": "code",
   "execution_count": 10,
   "id": "d3975200-1499-40fd-ba8d-75e35db709c2",
   "metadata": {},
   "outputs": [
    {
     "data": {
      "text/html": [
       "<div>\n",
       "<style scoped>\n",
       "    .dataframe tbody tr th:only-of-type {\n",
       "        vertical-align: middle;\n",
       "    }\n",
       "\n",
       "    .dataframe tbody tr th {\n",
       "        vertical-align: top;\n",
       "    }\n",
       "\n",
       "    .dataframe thead th {\n",
       "        text-align: right;\n",
       "    }\n",
       "</style>\n",
       "<table border=\"1\" class=\"dataframe\">\n",
       "  <thead>\n",
       "    <tr style=\"text-align: right;\">\n",
       "      <th></th>\n",
       "      <th>label</th>\n",
       "      <th>message</th>\n",
       "      <th>len</th>\n",
       "    </tr>\n",
       "  </thead>\n",
       "  <tbody>\n",
       "    <tr>\n",
       "      <th>0</th>\n",
       "      <td>1</td>\n",
       "      <td>Content-Type: text/html;\\nContent-Transfer-Enc...</td>\n",
       "      <td>225</td>\n",
       "    </tr>\n",
       "    <tr>\n",
       "      <th>1</th>\n",
       "      <td>0</td>\n",
       "      <td>Hi, i've just updated from the gulus and I che...</td>\n",
       "      <td>728</td>\n",
       "    </tr>\n",
       "    <tr>\n",
       "      <th>2</th>\n",
       "      <td>1</td>\n",
       "      <td>Content-Type: text/plain;\\n\\tcharset=\"iso-8859...</td>\n",
       "      <td>410</td>\n",
       "    </tr>\n",
       "    <tr>\n",
       "      <th>3</th>\n",
       "      <td>1</td>\n",
       "      <td>Hey Billy, \\n\\nit was really fun going out the...</td>\n",
       "      <td>649</td>\n",
       "    </tr>\n",
       "    <tr>\n",
       "      <th>4</th>\n",
       "      <td>1</td>\n",
       "      <td>Content-Type: multipart/alternative;\\n        ...</td>\n",
       "      <td>17480</td>\n",
       "    </tr>\n",
       "  </tbody>\n",
       "</table>\n",
       "</div>"
      ],
      "text/plain": [
       "   label                                            message    len\n",
       "0      1  Content-Type: text/html;\\nContent-Transfer-Enc...    225\n",
       "1      0  Hi, i've just updated from the gulus and I che...    728\n",
       "2      1  Content-Type: text/plain;\\n\\tcharset=\"iso-8859...    410\n",
       "3      1  Hey Billy, \\n\\nit was really fun going out the...    649\n",
       "4      1  Content-Type: multipart/alternative;\\n        ...  17480"
      ]
     },
     "execution_count": 10,
     "metadata": {},
     "output_type": "execute_result"
    }
   ],
   "source": [
    "### Visuals to understand the data better\n",
    "spam_dataset_copy = spam_dataset\n",
    "spam_dataset_copy['len'] = spam_dataset_copy['message'].apply(len)\n",
    "spam_dataset_copy.head()"
   ]
  },
  {
   "cell_type": "code",
   "execution_count": null,
   "id": "cc0bcac5-586d-4084-b0e0-34853103c258",
   "metadata": {},
   "outputs": [],
   "source": [
    "spam_dataset_copy['len'].describe()"
   ]
  },
  {
   "cell_type": "code",
   "execution_count": 11,
   "id": "dc334302-0bb4-4547-a337-02e735242511",
   "metadata": {},
   "outputs": [
    {
     "data": {
      "text/plain": [
       "<AxesSubplot:ylabel='Frequency'>"
      ]
     },
     "execution_count": 11,
     "metadata": {},
     "output_type": "execute_result"
    },
    {
     "data": {
      "image/png": "[encoded data removed]",
      "text/plain": [
       "<Figure size 720x504 with 1 Axes>"
      ]
     },
     "metadata": {
      "needs_background": "light"
     },
     "output_type": "display_data"
    }
   ],
   "source": [
    "# Histogram of lengths of the emails\n",
    "spam_dataset_copy['len'].plot(bins=100, kind='hist',figsize=(10,7))"
   ]
  },
  {
   "cell_type": "code",
   "execution_count": 12,
   "id": "8ca08c39-5244-4f73-8a54-b50a04adfe1e",
   "metadata": {},
   "outputs": [
    {
     "data": {
      "text/plain": [
       "array([<AxesSubplot:title={'center':'0'}>,\n",
       "       <AxesSubplot:title={'center':'1'}>], dtype=object)"
      ]
     },
     "execution_count": 12,
     "metadata": {},
     "output_type": "execute_result"
    },
    {
     "data": {
      "image/png": "[encoded data removed]",
      "text/plain": [
       "<Figure size 1080x576 with 2 Axes>"
      ]
     },
     "metadata": {
      "needs_background": "light"
     },
     "output_type": "display_data"
    }
   ],
   "source": [
    "# Histogram of lenght of the emails compared by the labels\n",
    "spam_dataset_copy.hist(column='len', by='label', bins=50, figsize=(15,8))"
   ]
  },
  {
   "cell_type": "code",
   "execution_count": 83,
   "id": "cd03ad8a-95f4-4172-ba89-ba84b2b1a53a",
   "metadata": {},
   "outputs": [
    {
     "data": {
      "text/plain": [
       "1    48714\n",
       "0    25218\n",
       "Name: label, dtype: int64"
      ]
     },
     "execution_count": 83,
     "metadata": {},
     "output_type": "execute_result"
    }
   ],
   "source": [
    "spam_dataset_copy['label'].value_counts()"
   ]
  },
  {
   "cell_type": "code",
   "execution_count": 13,
   "id": "cdac2d7a-3c15-4ff8-8e1f-06764ed59c68",
   "metadata": {},
   "outputs": [
    {
     "data": {
      "image/png": "[encoded data removed]",
      "text/plain": [
       "<Figure size 432x288 with 1 Axes>"
      ]
     },
     "metadata": {
      "needs_background": "light"
     },
     "output_type": "display_data"
    }
   ],
   "source": [
    "#Plotting value counts of SPAM and HAM\n",
    "spam_dataset_copy['label'].value_counts().plot(kind='bar')\n",
    "plt.xlabel('label')\n",
    "plt.ylabel('Count')\n",
    "plt.show()"
   ]
  },
  {
   "cell_type": "code",
   "execution_count": 14,
   "id": "0687d3c2-09df-4522-bc33-0aa8e4274bfd",
   "metadata": {},
   "outputs": [],
   "source": [
    "# Split Data to Train and Test\n",
    "text_train, text_test, label_train, label_test = train_test_split(spam_dataset['message'], spam_dataset['label'], test_size=0.2, random_state=111)\n",
    "\n",
    "# resetting the index numbers of the datasets\n",
    "text_train = text_train.reset_index(drop=True)\n",
    "text_test = text_test.reset_index(drop=True)\n",
    "label_train = label_train.reset_index(drop=True)\n",
    "label_test = label_test.reset_index(drop=True)"
   ]
  },
  {
   "cell_type": "code",
   "execution_count": 15,
   "id": "42709847-6c53-46b3-9120-37076fea7487",
   "metadata": {},
   "outputs": [
    {
     "data": {
      "text/plain": [
       "0    ==============================================...\n",
       "1    social day fly thinking whos spot journey, end...\n",
       "2    Content-Type: multipart/alternative;\\n\\tbounda...\n",
       "3    -----BEGIN PGP SIGNED MESSAGE-----\\nHash: SHA1...\n",
       "4    buy now 100mg x 90 pills $159.95\\nhttp://thusm...\n",
       "Name: message, dtype: object"
      ]
     },
     "execution_count": 15,
     "metadata": {},
     "output_type": "execute_result"
    }
   ],
   "source": [
    "text_train.head()"
   ]
  },
  {
   "cell_type": "code",
   "execution_count": 16,
   "id": "4d9b990a-0ea8-4c3e-8481-a5475c75eac8",
   "metadata": {},
   "outputs": [
    {
     "data": {
      "text/plain": [
       "0    0\n",
       "1    1\n",
       "2    1\n",
       "3    0\n",
       "4    1\n",
       "Name: label, dtype: int64"
      ]
     },
     "execution_count": 16,
     "metadata": {},
     "output_type": "execute_result"
    }
   ],
   "source": [
    "label_train.head()"
   ]
  },
  {
   "cell_type": "code",
   "execution_count": 17,
   "id": "4b756099-b0e2-4775-8123-2455cbb1c29f",
   "metadata": {},
   "outputs": [
    {
     "data": {
      "text/plain": [
       "0    Dear all,\\n\\nI got this error message \\n\\n> li...\n",
       "1    With hundreds of models to choose from, rock b...\n",
       "2    Content-Type: multipart/alternative;\\n\\tbounda...\n",
       "3    Content-Type: text/plain;\\n        charset=\"wi...\n",
       "4    Cher(e) membre \\n                Desjardins/ A...\n",
       "Name: message, dtype: object"
      ]
     },
     "execution_count": 17,
     "metadata": {},
     "output_type": "execute_result"
    }
   ],
   "source": [
    "text_test.head()"
   ]
  },
  {
   "cell_type": "code",
   "execution_count": 18,
   "id": "27b7a249-6743-49dc-8d18-d79f60ab0c49",
   "metadata": {},
   "outputs": [
    {
     "data": {
      "text/plain": [
       "0    0\n",
       "1    1\n",
       "2    1\n",
       "3    1\n",
       "4    1\n",
       "Name: label, dtype: int64"
      ]
     },
     "execution_count": 18,
     "metadata": {},
     "output_type": "execute_result"
    }
   ],
   "source": [
    "label_test.head()"
   ]
  },
  {
   "cell_type": "code",
   "execution_count": 19,
   "id": "f607956d-ff1e-4652-b2c3-0f8f5ce42de1",
   "metadata": {},
   "outputs": [],
   "source": [
    "### Conversion of the text data to TDIF per email form\n",
    "from sklearn.feature_extraction.text import TfidfVectorizer\n",
    "\n",
    "tfidf = TfidfVectorizer(stop_words='english')\n",
    "\n",
    "\n",
    "tfidf_matrix_text_train = tfidf.fit_transform(text_train)\n",
    "tfidf_matrix_text_test = tfidf.transform(text_test)\n",
    "\n"
   ]
  },
  {
   "cell_type": "code",
   "execution_count": 20,
   "id": "ace4bb3e-d370-4a55-98a0-cb89a94b1bad",
   "metadata": {},
   "outputs": [
    {
     "data": {
      "text/plain": [
       "<59145x2540134 sparse matrix of type '<class 'numpy.float64'>'\n",
       "\twith 11662811 stored elements in Compressed Sparse Row format>"
      ]
     },
     "execution_count": 20,
     "metadata": {},
     "output_type": "execute_result"
    }
   ],
   "source": [
    "tfidf_matrix_text_train"
   ]
  },
  {
   "cell_type": "code",
   "execution_count": 21,
   "id": "cab5a867-b88d-4a3d-a6be-f07879415638",
   "metadata": {},
   "outputs": [
    {
     "data": {
      "text/plain": [
       "(59145, 2540134)"
      ]
     },
     "execution_count": 21,
     "metadata": {},
     "output_type": "execute_result"
    }
   ],
   "source": [
    "tfidf_matrix_text_train.shape"
   ]
  },
  {
   "cell_type": "markdown",
   "id": "bc48328d-25f5-4645-a55d-a25d789c4e28",
   "metadata": {
    "tags": []
   },
   "source": [
    "### Part II - Navie Bayes Classification for Text"
   ]
  },
  {
   "cell_type": "code",
   "execution_count": 22,
   "id": "91a87a5e-6a47-4dc9-be51-01a71d651eaf",
   "metadata": {},
   "outputs": [
    {
     "data": {
      "text/plain": [
       "MultinomialNB(alpha=1.5)"
      ]
     },
     "execution_count": 22,
     "metadata": {},
     "output_type": "execute_result"
    }
   ],
   "source": [
    "from sklearn.naive_bayes import MultinomialNB\n",
    "\n",
    "Naive_Bayes_model = MultinomialNB(alpha=1.5) \n",
    "\n",
    "Naive_Bayes_model.fit(tfidf_matrix_text_train,label_train)"
   ]
  },
  {
   "cell_type": "code",
   "execution_count": 23,
   "id": "51cebdb3-b285-4c1c-b29e-224170b53ae6",
   "metadata": {},
   "outputs": [
    {
     "data": {
      "text/plain": [
       "array([0, 1, 1, ..., 1, 0, 0])"
      ]
     },
     "execution_count": 23,
     "metadata": {},
     "output_type": "execute_result"
    }
   ],
   "source": [
    "predicted_labels_NB = Naive_Bayes_model.predict(tfidf_matrix_text_test)\n",
    "predicted_labels_NB"
   ]
  },
  {
   "cell_type": "code",
   "execution_count": 56,
   "id": "dc0c61cc-41da-43af-a50a-0029419a9182",
   "metadata": {},
   "outputs": [
    {
     "data": {
      "text/plain": [
       "array([[4887,  169],\n",
       "       [  32, 9699]])"
      ]
     },
     "execution_count": 56,
     "metadata": {},
     "output_type": "execute_result"
    }
   ],
   "source": [
    "# Confusin Matrix\n",
    "cf_nb = confusion_matrix(label_test, predicted_labels_NB)\n",
    "cf_nb"
   ]
  },
  {
   "cell_type": "code",
   "execution_count": 57,
   "id": "cad113ce-f1ef-4945-bf13-90a7bc3e7b48",
   "metadata": {},
   "outputs": [
    {
     "data": {
      "text/plain": [
       "<AxesSubplot:>"
      ]
     },
     "execution_count": 57,
     "metadata": {},
     "output_type": "execute_result"
    },
    {
     "data": {
      "image/png": "[encoded data removed]",
      "text/plain": [
       "<Figure size 432x288 with 2 Axes>"
      ]
     },
     "metadata": {
      "needs_background": "light"
     },
     "output_type": "display_data"
    }
   ],
   "source": [
    "# Confusion Matrix Heatmap\n",
    "group_counts = [\"{0:0.0f}\".format(value) for value in cf_nb.flatten()]\n",
    "group_percentages = [\"{0:.2%}\".format(value) for value in cf_nb.flatten()/np.sum(cf_nb)]\n",
    "labels = [f\"{v1}\\n{v2}\" for v1, v2 in zip(group_counts,group_percentages)]\n",
    "labels = np.asarray(labels).reshape(2,2)\n",
    "sns.heatmap(cf_nb, annot=labels, fmt=\"\", cmap=sns.cubehelix_palette(as_cmap=True))"
   ]
  },
  {
   "cell_type": "code",
   "execution_count": 54,
   "id": "a1c6ff7a-e5ec-4308-bb2e-e2e74e2ee879",
   "metadata": {},
   "outputs": [
    {
     "name": "stdout",
     "output_type": "stream",
     "text": [
      "              precision    recall  f1-score   support\n",
      "\n",
      "           0       0.99      0.97      0.98      5056\n",
      "           1       0.98      1.00      0.99      9731\n",
      "\n",
      "    accuracy                           0.99     14787\n",
      "   macro avg       0.99      0.98      0.98     14787\n",
      "weighted avg       0.99      0.99      0.99     14787\n",
      "\n"
     ]
    }
   ],
   "source": [
    "print(classification_report(label_test, predicted_labels_NB))"
   ]
  },
  {
   "cell_type": "code",
   "execution_count": 84,
   "id": "c90f01ef-fd3f-490f-8f44-cc78ecea673a",
   "metadata": {},
   "outputs": [
    {
     "data": {
      "text/plain": [
       "0.9864069791032664"
      ]
     },
     "execution_count": 84,
     "metadata": {},
     "output_type": "execute_result"
    }
   ],
   "source": [
    "accuracy_score(label_test, predicted_labels_NB)"
   ]
  },
  {
   "cell_type": "markdown",
   "id": "c39e1843-8b9b-4bd3-9146-8a19e905fb0c",
   "metadata": {
    "tags": []
   },
   "source": [
    "### Part III - KNN"
   ]
  },
  {
   "cell_type": "code",
   "execution_count": null,
   "id": "d0d06d1a-18da-4c91-974d-42ba1bf0c808",
   "metadata": {},
   "outputs": [],
   "source": [
    "# default=’minkowski’ => Euclidean distance\n",
    "# p: int, default=2 (Euclidean), or p=1 (Manhattan)"
   ]
  },
  {
   "cell_type": "code",
   "execution_count": 35,
   "id": "e83b37f3-80bb-4ad8-8295-70ba3c3f32e4",
   "metadata": {},
   "outputs": [],
   "source": [
    "# Optimizing KNN by finding the best K value using Euclidean\n",
    "\n",
    "from sklearn.neighbors import KNeighborsClassifier\n",
    "\n",
    "error_rate_euclidean = []\n",
    "\n",
    "for i in range(1,7):\n",
    "    knn = KNeighborsClassifier(n_neighbors=i, p=2)\n",
    "    # fit Train\n",
    "    knn.fit(tfidf_matrix_text_train, label_train)\n",
    "    # predict Test\n",
    "    predicted_label_i_knn = knn.predict(tfidf_matrix_text_test)\n",
    "    # Calculate error and add to error_rate list\n",
    "    error_rate_euclidean.append(np.mean(predicted_label_i_knn != label_test))"
   ]
  },
  {
   "cell_type": "code",
   "execution_count": 36,
   "id": "037c1d5e-e75a-45a3-b815-8a25b01b6c68",
   "metadata": {},
   "outputs": [
    {
     "data": {
      "image/png": "[encoded data removed]",
      "text/plain": [
       "<Figure size 720x432 with 1 Axes>"
      ]
     },
     "metadata": {
      "needs_background": "light"
     },
     "output_type": "display_data"
    }
   ],
   "source": [
    "# Plotting K vs Error Rate Plot - Euclidean Distance\n",
    "plt.figure(figsize=(10,6))\n",
    "plt.plot(range(1,7), error_rate_euclidean,color ='blue', linestyle ='dashed', marker ='o',markerfacecolor ='red', markersize=10)\n",
    "plt.title('Euclidean Distanced Error Rate vs. K Value')\n",
    "plt.xlabel('K')\n",
    "plt.ylabel('Error Rate')\n",
    "plt.show()"
   ]
  },
  {
   "cell_type": "code",
   "execution_count": 37,
   "id": "6ccc3d26-2c4f-4bb6-84b4-9b58424164a8",
   "metadata": {},
   "outputs": [],
   "source": [
    "# Optimizing KNN by finding the best K value using Manhattan Distance\n",
    "\n",
    "from sklearn.neighbors import KNeighborsClassifier\n",
    "\n",
    "error_rate_manhattan = []\n",
    "\n",
    "for i in range(1,7):\n",
    "    knn = KNeighborsClassifier(n_neighbors=i, p=1)\n",
    "    # fit Train\n",
    "    knn.fit(tfidf_matrix_text_train, label_train)\n",
    "    # predict Test\n",
    "    predicted_label_i_knn = knn.predict(tfidf_matrix_text_test)\n",
    "    # Calculate error and add to error_rate list\n",
    "    error_rate_manhattan.append(np.mean(predicted_label_i_knn != label_test))"
   ]
  },
  {
   "cell_type": "code",
   "execution_count": 73,
   "id": "231d646a-b866-468c-be0f-1afa8fee3def",
   "metadata": {},
   "outputs": [
    {
     "data": {
      "image/png": "[encoded data removed]",
      "text/plain": [
       "<Figure size 720x432 with 1 Axes>"
      ]
     },
     "metadata": {
      "needs_background": "light"
     },
     "output_type": "display_data"
    }
   ],
   "source": [
    "# Plotting K vs Error Rate Plot - Manhattan Distance\n",
    "plt.figure(figsize=(10,6))\n",
    "plt.plot(range(1,7),error_rate_manhattan,color='blue', linestyle='dashed', \n",
    "         marker='o',markerfacecolor='red', markersize=10)\n",
    "plt.title('Manhattan Distanced Error Rate vs. K Value')\n",
    "plt.xlabel('K')\n",
    "plt.ylabel('Error Rate')\n",
    "plt.show()"
   ]
  },
  {
   "cell_type": "code",
   "execution_count": null,
   "id": "d0027e33-24f8-4c5a-9195-6efa024824fa",
   "metadata": {},
   "outputs": [],
   "source": [
    "# Comparing Results of K values and Distances"
   ]
  },
  {
   "cell_type": "markdown",
   "id": "a57d14f8-e0a5-479e-9f9a-3fcb0bdc4746",
   "metadata": {},
   "source": [
    "The plots above show that Euclidean distance measure metric have a lower error rate overall. Therefore Euclidean method is used. In addition, I decided to use K of 2 to continue classification since it has the lowest error rate."
   ]
  },
  {
   "cell_type": "code",
   "execution_count": 40,
   "id": "700128c6-fa65-4c04-b34c-035c9ec68ff1",
   "metadata": {},
   "outputs": [],
   "source": [
    "# Getting the best K and Evaluation\n",
    "\n",
    "#Fitting the KMM model\n",
    "knn_classifier = KNeighborsClassifier(n_neighbors = 2, metric = 'minkowski', p=2)\n",
    "# Train\n",
    "knn_classifier.fit(tfidf_matrix_text_train, label_train)\n",
    "# Precit\n",
    "predicted_knn_classifier=knn_classifier.predict(tfidf_matrix_text_test)\n"
   ]
  },
  {
   "cell_type": "code",
   "execution_count": 43,
   "id": "124e0cda-734f-41d8-85e7-01688268d12b",
   "metadata": {},
   "outputs": [
    {
     "data": {
      "text/plain": [
       "array([[4334,  722],\n",
       "       [  14, 9717]])"
      ]
     },
     "execution_count": 43,
     "metadata": {},
     "output_type": "execute_result"
    }
   ],
   "source": [
    "# Evaluate\n",
    "cf_KNN = confusion_matrix(label_test, predicted_knn_classifier)\n",
    "cf_KNN"
   ]
  },
  {
   "cell_type": "code",
   "execution_count": 52,
   "id": "d203ab63-0df3-4819-987b-dba893d53a4a",
   "metadata": {},
   "outputs": [
    {
     "data": {
      "text/plain": [
       "<AxesSubplot:>"
      ]
     },
     "execution_count": 52,
     "metadata": {},
     "output_type": "execute_result"
    },
    {
     "data": {
      "image/png": "[encoded data removed]",
      "text/plain": [
       "<Figure size 432x288 with 2 Axes>"
      ]
     },
     "metadata": {
      "needs_background": "light"
     },
     "output_type": "display_data"
    }
   ],
   "source": [
    "group_counts = [\"{0:0.0f}\".format(value) for value in cf_KNN.flatten()]\n",
    "group_percentages = [\"{0:.2%}\".format(value) for value in cf_KNN.flatten()/np.sum(cf_KNN)]\n",
    "labels = [f\"{v1}\\n{v2}\" for v1, v2 in zip(group_counts,group_percentages)]\n",
    "labels = np.asarray(labels).reshape(2,2)\n",
    "sns.heatmap(cf_KNN, annot=labels, fmt=\"\", cmap=sns.cubehelix_palette(as_cmap=True))"
   ]
  },
  {
   "cell_type": "code",
   "execution_count": 58,
   "id": "30c05a83-9b22-4cc5-a9b7-ce8142ebe91e",
   "metadata": {},
   "outputs": [
    {
     "name": "stdout",
     "output_type": "stream",
     "text": [
      "              precision    recall  f1-score   support\n",
      "\n",
      "           0       1.00      0.86      0.92      5056\n",
      "           1       0.93      1.00      0.96      9731\n",
      "\n",
      "    accuracy                           0.95     14787\n",
      "   macro avg       0.96      0.93      0.94     14787\n",
      "weighted avg       0.95      0.95      0.95     14787\n",
      "\n"
     ]
    }
   ],
   "source": [
    "print(classification_report(label_test, predicted_knn_classifier))"
   ]
  },
  {
   "cell_type": "code",
   "execution_count": 85,
   "id": "ea188db6-75bd-488e-af1d-3df95ae61038",
   "metadata": {},
   "outputs": [
    {
     "data": {
      "text/plain": [
       "0.9502265503482789"
      ]
     },
     "execution_count": 85,
     "metadata": {},
     "output_type": "execute_result"
    }
   ],
   "source": [
    "accuracy_score(label_test, predicted_knn_classifier)"
   ]
  },
  {
   "cell_type": "markdown",
   "id": "9ae34ebe-3342-40af-8660-4d8c9ce87630",
   "metadata": {},
   "source": [
    "### Part V - Random Forest"
   ]
  },
  {
   "cell_type": "code",
   "execution_count": 77,
   "id": "e05fe55d-685f-42ce-bd42-b57742370134",
   "metadata": {},
   "outputs": [
    {
     "name": "stdout",
     "output_type": "stream",
     "text": [
      "1\n",
      "2\n",
      "3\n",
      "4\n",
      "5\n",
      "6\n",
      "best_n_estimator: 200\n",
      "best_accuracy_score: 0.9940488266720768\n",
      "best_criterion: gini\n"
     ]
    }
   ],
   "source": [
    "from sklearn.ensemble import RandomForestClassifier\n",
    "\n",
    "rf_parameters = {\"n_estimators\":[100, 200, 500], \"criterion\" : [\"gini\", \"entropy\"]}\n",
    "\n",
    "best_n_estimator = 0\n",
    "best_score = 0\n",
    "best_criterion = \"\"\n",
    "i = 0\n",
    "for crit in rf_parameters[\"criterion\"]:\n",
    "    for n in rf_parameters[\"n_estimators\"]:\n",
    "        i+=1\n",
    "        print(i)\n",
    "        \n",
    "        random_forest_model = RandomForestClassifier(n_estimators = n, random_state = 111, criterion = crit)\n",
    "        random_forest_model.fit(tfidf_matrix_text_train, label_train)\n",
    "        labels_predicted_randomforest = random_forest_model.predict(tfidf_matrix_text_test)\n",
    "        acc_score = accuracy_score(labels_predicted_randomforest,label_test)\n",
    "        if acc_score > best_score:\n",
    "            best_score = acc_score\n",
    "            best_n_estimator = n\n",
    "            best_criterion = crit\n",
    "            \n",
    "print(\"best_n_estimator:\",best_n_estimator)\n",
    "print(\"best_accuracy_score:\",best_score)\n",
    "print(\"best_criterion:\",best_criterion)\n",
    "\n"
   ]
  },
  {
   "cell_type": "code",
   "execution_count": 78,
   "id": "77c3faa4-b43d-432b-8087-511974fcd4d7",
   "metadata": {},
   "outputs": [
    {
     "data": {
      "text/plain": [
       "array([0, 1, 1, ..., 1, 0, 0])"
      ]
     },
     "execution_count": 78,
     "metadata": {},
     "output_type": "execute_result"
    }
   ],
   "source": [
    "# Random Forest using the best parameters using above results\n",
    "\n",
    "random_forest_model = RandomForestClassifier(n_estimators = best_n_estimator, random_state = 111, criterion = best_criterion)\n",
    "# Train\n",
    "random_forest_model.fit(tfidf_matrix_text_train, label_train)\n",
    "# Precict labels\n",
    "labels_predicted_randomforest = random_forest_model.predict(tfidf_matrix_text_test)\n",
    "labels_predicted_randomforest"
   ]
  },
  {
   "cell_type": "code",
   "execution_count": 80,
   "id": "d97538bf-64ee-4f56-be12-fa6b74c7684d",
   "metadata": {},
   "outputs": [
    {
     "data": {
      "text/plain": [
       "array([[5013,   43],\n",
       "       [  45, 9686]])"
      ]
     },
     "execution_count": 80,
     "metadata": {},
     "output_type": "execute_result"
    }
   ],
   "source": [
    "cf_rf = confusion_matrix(label_test, labels_predicted_randomforest)\n",
    "cf_rf"
   ]
  },
  {
   "cell_type": "code",
   "execution_count": 81,
   "id": "489fb858-c6da-40eb-8512-8134bcd71428",
   "metadata": {},
   "outputs": [
    {
     "data": {
      "text/plain": [
       "<AxesSubplot:>"
      ]
     },
     "execution_count": 81,
     "metadata": {},
     "output_type": "execute_result"
    },
    {
     "data": {
      "image/png": "[encoded data removed]",
      "text/plain": [
       "<Figure size 432x288 with 2 Axes>"
      ]
     },
     "metadata": {
      "needs_background": "light"
     },
     "output_type": "display_data"
    }
   ],
   "source": [
    "group_counts = [\"{0:0.0f}\".format(value) for value in cf_rf.flatten()]\n",
    "group_percentages = [\"{0:.2%}\".format(value) for value in cf_rf.flatten()/np.sum(cf_rf)]\n",
    "labels = [f\"{v1}\\n{v2}\" for v1, v2 in zip(group_counts,group_percentages)]\n",
    "labels = np.asarray(labels).reshape(2,2)\n",
    "sns.heatmap(cf_rf, annot=labels, fmt=\"\", cmap=sns.cubehelix_palette(as_cmap=True))"
   ]
  },
  {
   "cell_type": "code",
   "execution_count": 82,
   "id": "32b25bd4-20b1-44f0-9f16-7f2610e2f14d",
   "metadata": {},
   "outputs": [
    {
     "name": "stdout",
     "output_type": "stream",
     "text": [
      "              precision    recall  f1-score   support\n",
      "\n",
      "           0       0.99      0.99      0.99      5056\n",
      "           1       1.00      1.00      1.00      9731\n",
      "\n",
      "    accuracy                           0.99     14787\n",
      "   macro avg       0.99      0.99      0.99     14787\n",
      "weighted avg       0.99      0.99      0.99     14787\n",
      "\n"
     ]
    }
   ],
   "source": [
    "print(classification_report(label_test, labels_predicted_randomforest))"
   ]
  },
  {
   "cell_type": "code",
   "execution_count": 86,
   "id": "656d0034-55bc-4f82-aa1f-559cd666a261",
   "metadata": {},
   "outputs": [
    {
     "data": {
      "text/plain": [
       "0.9940488266720768"
      ]
     },
     "execution_count": 86,
     "metadata": {},
     "output_type": "execute_result"
    }
   ],
   "source": [
    "accuracy_score(label_test, labels_predicted_randomforest)"
   ]
  },
  {
   "cell_type": "code",
   "execution_count": null,
   "id": "bd18bbd7-0e22-4988-874a-73282bbf98fb",
   "metadata": {},
   "outputs": [],
   "source": []
  }
 ],
 "metadata": {
  "kernelspec": {
   "display_name": "Python 3 (ipykernel)",
   "language": "python",
   "name": "python3"
  },
  "language_info": {
   "codemirror_mode": {
    "name": "ipython",
    "version": 3
   },
   "file_extension": ".py",
   "mimetype": "text/x-python",
   "name": "python",
   "nbconvert_exporter": "python",
   "pygments_lexer": "ipython3",
   "version": "3.9.12"
  }
 },
 "nbformat": 4,
 "nbformat_minor": 5
}
